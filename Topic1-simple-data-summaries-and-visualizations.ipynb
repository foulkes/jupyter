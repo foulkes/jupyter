{
 "cells": [
  {
   "cell_type": "markdown",
   "metadata": {
    "slideshow": {
     "slide_type": "slide"
    }
   },
   "source": [
    "### <span style=\"color:darkblue\"> Topic 1 - Simple data summaries and visualizations</span>\n",
    "\n",
    "This notebook can be viewed and downloaded at:\n",
    "&nbsp;\n",
    "\n",
    "https://nbviewer.jupyter.org/urls/www.mtholyoke.edu/courses/afoulkes/2016-Fall-Stat241/Course-Materials/T1/Topic1-simple-data-summaries-and-visualizations.ipynb\n",
    "\n",
    "- Data example: Infant vaccination against polio \n",
    "\n",
    "- Summarizing and manipulating data \n",
    "    \n",
    "- Some simple data visualizations"
   ]
  },
  {
   "cell_type": "markdown",
   "metadata": {
    "slideshow": {
     "slide_type": "slide"
    }
   },
   "source": [
    "---\n",
    "\n",
    "#### <span style=\"color:darkblue\">A. Data example: Infant vaccination against polio </span> \n",
    "\n",
    "\n",
    "<em>Source: World Health Organization (WHO)</em>\n",
    "\n",
    "Data reported as:\n",
    "\n",
    "- percentage of infants less than 1 year of age who have received three doses of polio vaccine in a given year\n",
    "- by country: 194 countries\n",
    "- by year: annually from 1980 to 2014 "
   ]
  },
  {
   "cell_type": "markdown",
   "metadata": {
    "slideshow": {
     "slide_type": "slide"
    }
   },
   "source": [
    "---\n",
    "\n",
    "#### <span style=\"color:darkblue\">B. Summarizing and manipulating data </span>\n",
    "\n",
    "1. reading data into R\n",
    "2. tabulating\n",
    "3. subsetting\n",
    "4. calculating simple summary statistics"
   ]
  },
  {
   "cell_type": "markdown",
   "metadata": {
    "slideshow": {
     "slide_type": "subslide"
    }
   },
   "source": [
    "---\n",
    "#### <span style=\"color:orange\">1. reading data into R:</span>\n",
    "\n",
    "We begin by reading in the data from World Health Organization Global Health Observatory (GHO) data repository (http://www.who.int/gho/database/en/) using the <span style=\"color:darkgreen\">read.csv()</span> function in R and then creating a data frame with the variables we want to retain. "
   ]
  },
  {
   "cell_type": "code",
   "execution_count": 1,
   "metadata": {
    "collapsed": false,
    "slideshow": {
     "slide_type": "fragment"
    }
   },
   "outputs": [],
   "source": [
    "dta <- read.csv(\"http://apps.who.int/gho/athena/data/data-text.csv?target=GHO/WHS4_544&profile=text&filter=COUNTRY:*\")\n",
    "\n",
    "who.polio <- data.frame(Year = dta$Year, WHO.region = dta$WHO.region, \n",
    "                        WB.income = dta$World.Bank.income.group,\n",
    "                        Country = dta$Country,\n",
    "                        Immunized = dta$Numeric)"
   ]
  },
  {
   "cell_type": "markdown",
   "metadata": {
    "slideshow": {
     "slide_type": "subslide"
    }
   },
   "source": [
    "The <span style=\"color:darkgreen\">head()</span> function is used to look at the first 6 rows of the resulting data frame while the <span style=\"color:darkgreen\">dim()</span> function tells us the number of rows and columns in our data frame:"
   ]
  },
  {
   "cell_type": "code",
   "execution_count": 2,
   "metadata": {
    "collapsed": false,
    "slideshow": {
     "slide_type": "fragment"
    }
   },
   "outputs": [
    {
     "data": {
      "text/html": [
       "<table>\n",
       "<thead><tr><th scope=col>Year</th><th scope=col>WHO.region</th><th scope=col>WB.income</th><th scope=col>Country</th><th scope=col>Immunized</th></tr></thead>\n",
       "<tbody>\n",
       "\t<tr><td>1988               </td><td>Africa             </td><td>Upper-middle-income</td><td>Gabon              </td><td>72                 </td></tr>\n",
       "\t<tr><td>2007               </td><td>Europe             </td><td>High-income        </td><td>France             </td><td>99                 </td></tr>\n",
       "\t<tr><td>1999               </td><td>Europe             </td><td>High-income        </td><td>Andorra            </td><td>95                 </td></tr>\n",
       "\t<tr><td>1996               </td><td>Western Pacific    </td><td>Lower-middle-income</td><td>Viet Nam           </td><td>94                 </td></tr>\n",
       "\t<tr><td>2002               </td><td>Americas           </td><td>Upper-middle-income</td><td>Ecuador            </td><td>88                 </td></tr>\n",
       "\t<tr><td>1983               </td><td>Europe             </td><td>Upper-middle-income</td><td>Turkey             </td><td>59                 </td></tr>\n",
       "</tbody>\n",
       "</table>\n"
      ],
      "text/latex": [
       "\\begin{tabular}{r|lllll}\n",
       " Year & WHO.region & WB.income & Country & Immunized\\\\\n",
       "\\hline\n",
       "\t 1988                & Africa              & Upper-middle-income & Gabon               & 72                 \\\\\n",
       "\t 2007                & Europe              & High-income         & France              & 99                 \\\\\n",
       "\t 1999                & Europe              & High-income         & Andorra             & 95                 \\\\\n",
       "\t 1996                & Western Pacific     & Lower-middle-income & Viet Nam            & 94                 \\\\\n",
       "\t 2002                & Americas            & Upper-middle-income & Ecuador             & 88                 \\\\\n",
       "\t 1983                & Europe              & Upper-middle-income & Turkey              & 59                 \\\\\n",
       "\\end{tabular}\n"
      ],
      "text/markdown": [
       "\n",
       "Year | WHO.region | WB.income | Country | Immunized | \n",
       "|---|---|---|---|---|---|\n",
       "| 1988                | Africa              | Upper-middle-income | Gabon               | 72                  | \n",
       "| 2007                | Europe              | High-income         | France              | 99                  | \n",
       "| 1999                | Europe              | High-income         | Andorra             | 95                  | \n",
       "| 1996                | Western Pacific     | Lower-middle-income | Viet Nam            | 94                  | \n",
       "| 2002                | Americas            | Upper-middle-income | Ecuador             | 88                  | \n",
       "| 1983                | Europe              | Upper-middle-income | Turkey              | 59                  | \n",
       "\n",
       "\n"
      ],
      "text/plain": [
       "  Year WHO.region      WB.income           Country  Immunized\n",
       "1 1988 Africa          Upper-middle-income Gabon    72       \n",
       "2 2007 Europe          High-income         France   99       \n",
       "3 1999 Europe          High-income         Andorra  95       \n",
       "4 1996 Western Pacific Lower-middle-income Viet Nam 94       \n",
       "5 2002 Americas        Upper-middle-income Ecuador  88       \n",
       "6 1983 Europe          Upper-middle-income Turkey   59       "
      ]
     },
     "metadata": {},
     "output_type": "display_data"
    }
   ],
   "source": [
    "head(who.polio)"
   ]
  },
  {
   "cell_type": "code",
   "execution_count": 3,
   "metadata": {
    "collapsed": false,
    "slideshow": {
     "slide_type": "fragment"
    }
   },
   "outputs": [
    {
     "data": {
      "text/html": [
       "<ol class=list-inline>\n",
       "\t<li>6372</li>\n",
       "\t<li>5</li>\n",
       "</ol>\n"
      ],
      "text/latex": [
       "\\begin{enumerate*}\n",
       "\\item 6372\n",
       "\\item 5\n",
       "\\end{enumerate*}\n"
      ],
      "text/markdown": [
       "1. 6372\n",
       "2. 5\n",
       "\n",
       "\n"
      ],
      "text/plain": [
       "[1] 6372    5"
      ]
     },
     "metadata": {},
     "output_type": "display_data"
    }
   ],
   "source": [
    "dim(who.polio)"
   ]
  },
  {
   "cell_type": "markdown",
   "metadata": {
    "slideshow": {
     "slide_type": "subslide"
    }
   },
   "source": [
    "---\n",
    "#### <span style=\"color:orange\">2. tabulating data</span>\n",
    "\n",
    "Using the <span style=\"color:darkgreen\">table()</span> function we tabulate the number of replicates we have for a given variable. For example, we can determine the number of countries for which we have immunization data each year as follows:"
   ]
  },
  {
   "cell_type": "code",
   "execution_count": 4,
   "metadata": {
    "collapsed": false,
    "slideshow": {
     "slide_type": "fragment"
    }
   },
   "outputs": [
    {
     "data": {
      "text/plain": [
       "\n",
       "1980 1981 1982 1983 1984 1985 1986 1987 1988 1989 1990 1991 1992 1993 1994 1995 \n",
       " 102  123  131  142  150  157  159  163  164  164  164  165  183  187  188  188 \n",
       "1996 1997 1998 1999 2000 2001 2002 2003 2004 2005 2006 2007 2008 2009 2010 2011 \n",
       " 188  189  189  191  191  191  192  192  192  192  193  193  193  193  193  194 \n",
       "2012 2013 2014 2015 \n",
       " 194  194  194  194 "
      ]
     },
     "metadata": {},
     "output_type": "display_data"
    }
   ],
   "source": [
    "table(who.polio$Year)"
   ]
  },
  {
   "cell_type": "markdown",
   "metadata": {
    "slideshow": {
     "slide_type": "subslide"
    }
   },
   "source": [
    "---\n",
    "#### <span style=\"color:orange\">3. subsetting data</span>\n",
    "\n",
    "We may also want to tabulate a variable on a subset of our data.  For example, if we want to determine the number of countries with avaialable data within each WHO region, we would first subset for a single year. We subset for 2014 as follows:"
   ]
  },
  {
   "cell_type": "code",
   "execution_count": 5,
   "metadata": {
    "collapsed": false,
    "slideshow": {
     "slide_type": "fragment"
    }
   },
   "outputs": [
    {
     "data": {
      "text/plain": [
       "\n",
       "               Africa              Americas Eastern Mediterranean \n",
       "                   47                    35                    21 \n",
       "               Europe       South-East Asia       Western Pacific \n",
       "                   53                    11                    27 "
      ]
     },
     "metadata": {},
     "output_type": "display_data"
    },
    {
     "data": {
      "text/plain": [
       "\n",
       "               Africa              Americas Eastern Mediterranean \n",
       "                   11                    34                    16 \n",
       "               Europe       South-East Asia       Western Pacific \n",
       "                   20                     6                    15 "
      ]
     },
     "metadata": {},
     "output_type": "display_data"
    }
   ],
   "source": [
    "who.polio.2014 <- subset(who.polio,Year==2014)\n",
    "table(who.polio.2014$WHO.region)\n",
    "\n",
    "who.polio.1980 <- subset(who.polio,Year==1980)\n",
    "table(who.polio.1980$WHO.region)"
   ]
  },
  {
   "cell_type": "markdown",
   "metadata": {
    "slideshow": {
     "slide_type": "subslide"
    }
   },
   "source": [
    "Likewise, we can now tabulate the number of countries that fall within the World Bank designated income groups in 2014:"
   ]
  },
  {
   "cell_type": "code",
   "execution_count": 6,
   "metadata": {
    "collapsed": false,
    "slideshow": {
     "slide_type": "fragment"
    }
   },
   "outputs": [
    {
     "data": {
      "text/plain": [
       "\n",
       "                            High-income          Low-income Lower-middle-income \n",
       "                  2                  57                  31                  50 \n",
       "Upper-middle-income \n",
       "                 54 "
      ]
     },
     "metadata": {},
     "output_type": "display_data"
    }
   ],
   "source": [
    "table(who.polio.2014$WB.income)"
   ]
  },
  {
   "cell_type": "markdown",
   "metadata": {
    "slideshow": {
     "slide_type": "subslide"
    }
   },
   "source": [
    "---\n",
    "#### <span style=\"color:orange\">4. calculating simple summary statistics</span>\n",
    "\n",
    "To begin, we often summarize categorical data by reporting <span style=\"color:violet\">proportions</span> and the <span style=\"color:violet\">sample size</span>. For example, we may be interested in knowing the proportions of countries that fall within each of the WB income groups (in place of the absolute counts) in 2014. We can calculate this as follows:"
   ]
  },
  {
   "cell_type": "code",
   "execution_count": 7,
   "metadata": {
    "collapsed": false,
    "slideshow": {
     "slide_type": "fragment"
    }
   },
   "outputs": [
    {
     "data": {
      "text/html": [
       "194"
      ],
      "text/latex": [
       "194"
      ],
      "text/markdown": [
       "194"
      ],
      "text/plain": [
       "[1] 194"
      ]
     },
     "metadata": {},
     "output_type": "display_data"
    },
    {
     "data": {
      "text/plain": [
       "\n",
       "                            High-income          Low-income Lower-middle-income \n",
       "         0.01030928          0.29381443          0.15979381          0.25773196 \n",
       "Upper-middle-income \n",
       "         0.27835052 "
      ]
     },
     "metadata": {},
     "output_type": "display_data"
    },
    {
     "data": {
      "text/html": [
       "<ol class=list-inline>\n",
       "\t<li>194</li>\n",
       "\t<li>5</li>\n",
       "</ol>\n"
      ],
      "text/latex": [
       "\\begin{enumerate*}\n",
       "\\item 194\n",
       "\\item 5\n",
       "\\end{enumerate*}\n"
      ],
      "text/markdown": [
       "1. 194\n",
       "2. 5\n",
       "\n",
       "\n"
      ],
      "text/plain": [
       "[1] 194   5"
      ]
     },
     "metadata": {},
     "output_type": "display_data"
    },
    {
     "data": {
      "text/html": [
       "194"
      ],
      "text/latex": [
       "194"
      ],
      "text/markdown": [
       "194"
      ],
      "text/plain": [
       "[1] 194"
      ]
     },
     "metadata": {},
     "output_type": "display_data"
    }
   ],
   "source": [
    "sum(table(who.polio.2014$WB.income))\n",
    "table(who.polio.2014$WB.income)/sum(table(who.polio.2014$WB.income))\n",
    "\n",
    "dim(who.polio.2014)\n",
    "dim(who.polio.2014)[1]"
   ]
  },
  {
   "cell_type": "markdown",
   "metadata": {
    "slideshow": {
     "slide_type": "fragment"
    }
   },
   "source": [
    "The total sample size (number of countries in this case) is given by:"
   ]
  },
  {
   "cell_type": "code",
   "execution_count": 8,
   "metadata": {
    "collapsed": false,
    "slideshow": {
     "slide_type": "fragment"
    }
   },
   "outputs": [
    {
     "data": {
      "text/html": [
       "194"
      ],
      "text/latex": [
       "194"
      ],
      "text/markdown": [
       "194"
      ],
      "text/plain": [
       "[1] 194"
      ]
     },
     "metadata": {},
     "output_type": "display_data"
    }
   ],
   "source": [
    "sum(table(who.polio.2014$WB.income))"
   ]
  },
  {
   "cell_type": "markdown",
   "metadata": {
    "slideshow": {
     "slide_type": "subslide"
    }
   },
   "source": [
    "Numeric data is often summarized by the  <span style=\"color:violet\">mean</span>, <span style=\"color:violet\">median</span> and <span style=\"color:violet\">interquartile range</span>, as well as the standard deviation. Consider for example the percentages of infants vaccinated against polio. This can be summarized using the <span style=\"color:darkgreen\">summary()</span> function:"
   ]
  },
  {
   "cell_type": "code",
   "execution_count": 9,
   "metadata": {
    "collapsed": false,
    "slideshow": {
     "slide_type": "fragment"
    }
   },
   "outputs": [
    {
     "data": {
      "text/plain": [
       "   Min. 1st Qu.  Median    Mean 3rd Qu.    Max. \n",
       "  24.00   84.00   94.00   87.93   97.00   99.00 "
      ]
     },
     "metadata": {},
     "output_type": "display_data"
    }
   ],
   "source": [
    "summary(who.polio.2014$Immunized)"
   ]
  },
  {
   "cell_type": "markdown",
   "metadata": {
    "slideshow": {
     "slide_type": "subslide"
    }
   },
   "source": [
    "We may also want to summarize a numeric variable across levels of another variable.  For example, suppose we are interested in comparing the median (or minimum) immunization percentages across WHO regions. This is achieved using the <span style=\"color:darkgreen\">tapply()</span> function:"
   ]
  },
  {
   "cell_type": "code",
   "execution_count": 10,
   "metadata": {
    "collapsed": false,
    "slideshow": {
     "slide_type": "fragment"
    }
   },
   "outputs": [
    {
     "data": {
      "text/plain": [
       "$Africa\n",
       "   Min. 1st Qu.  Median    Mean 3rd Qu.    Max. \n",
       "  24.00   74.00   84.00   79.68   93.50   99.00 \n",
       "\n",
       "$Americas\n",
       "   Min. 1st Qu.  Median    Mean 3rd Qu.    Max. \n",
       "  55.00   85.00   93.00   89.69   96.00   99.00 \n",
       "\n",
       "$`Eastern Mediterranean`\n",
       "   Min. 1st Qu.  Median    Mean 3rd Qu.    Max. \n",
       "  47.00   75.00   94.00   85.29   98.00   99.00 \n",
       "\n",
       "$Europe\n",
       "   Min. 1st Qu.  Median    Mean 3rd Qu.    Max. \n",
       "  45.00   94.00   96.00   94.26   98.00   99.00 \n",
       "\n",
       "$`South-East Asia`\n",
       "   Min. 1st Qu.  Median    Mean 3rd Qu.    Max. \n",
       "  76.00   83.00   94.00   90.73   99.00   99.00 \n",
       "\n",
       "$`Western Pacific`\n",
       "   Min. 1st Qu.  Median    Mean 3rd Qu.    Max. \n",
       "  53.00   84.00   94.00   88.52   99.00   99.00 \n"
      ]
     },
     "metadata": {},
     "output_type": "display_data"
    }
   ],
   "source": [
    "tapply(who.polio.2014$Immunized,who.polio.2014$WHO.region,summary)"
   ]
  },
  {
   "cell_type": "markdown",
   "metadata": {},
   "source": [
    "---\n",
    "#### <span style=\"color:darkblue\">C. Some simple data visualizations</span>\n",
    "\n",
    "1. times series\n",
    "2. boxplots\n",
    "3. histograms\n",
    "4. density plots"
   ]
  },
  {
   "cell_type": "markdown",
   "metadata": {},
   "source": [
    "---\n",
    "####   <span style=\"color:orange\">1. time series</span>\n",
    "\n",
    "Time series data refers generically to data that are measured over time, typically in equally spaced intervals, and can be plotted in R using <span style=\"color:darkgreen\">ggplot()</span>, <span style=\"color:darkgreen\">geom_line()</span> and <span style=\"color:darkgreen\">geom_point()</span>. \n",
    "\n",
    "In the following example, we generate a time series to evaluate the trends in immunization percentages over time for three African countries. "
   ]
  },
  {
   "cell_type": "code",
   "execution_count": 11,
   "metadata": {
    "collapsed": false,
    "slideshow": {
     "slide_type": "slide"
    }
   },
   "outputs": [
    {
     "name": "stderr",
     "output_type": "stream",
     "text": [
      "Warning message:\n",
      "“package ‘ggplot2’ was built under R version 3.3.2”"
     ]
    },
    {
     "data": {},
     "metadata": {},
     "output_type": "display_data"
    },
    {
     "data": {
      "text/html": [
       "<strong>pdf:</strong> 2"
      ],
      "text/latex": [
       "\\textbf{pdf:} 2"
      ],
      "text/markdown": [
       "**pdf:** 2"
      ],
      "text/plain": [
       "pdf \n",
       "  2 "
      ]
     },
     "metadata": {},
     "output_type": "display_data"
    }
   ],
   "source": [
    "#install.packages(\"ggplot2\")\n",
    "library(ggplot2)\n",
    "\n",
    "png(\"fig1.png\")\n",
    "ggplot(data=subset(who.polio,Country %in% c(\"Ethiopia\",\"Kenya\",\"Uganda\")),\n",
    "        aes(x=(Year),y=Immunized)) +\n",
    "        geom_line(aes(colour=Country),size=.25) +\n",
    "        geom_point(aes(colour=Country))\n",
    "dev.off()"
   ]
  },
  {
   "cell_type": "markdown",
   "metadata": {},
   "source": [
    "<img style=\"float: left\", src=\"fig1.png\">"
   ]
  },
  {
   "cell_type": "markdown",
   "metadata": {},
   "source": [
    "If we want to overlay several time series, then we can change the size of the lines and points, as well as the position of the legend. For example, the following code allows us toe visualize the time trends for all countries classified as within South-East Asia."
   ]
  },
  {
   "cell_type": "code",
   "execution_count": 12,
   "metadata": {
    "collapsed": false,
    "slideshow": {
     "slide_type": "slide"
    }
   },
   "outputs": [
    {
     "data": {},
     "metadata": {},
     "output_type": "display_data"
    },
    {
     "data": {
      "text/html": [
       "<strong>pdf:</strong> 2"
      ],
      "text/latex": [
       "\\textbf{pdf:} 2"
      ],
      "text/markdown": [
       "**pdf:** 2"
      ],
      "text/plain": [
       "pdf \n",
       "  2 "
      ]
     },
     "metadata": {},
     "output_type": "display_data"
    }
   ],
   "source": [
    "png(\"fig2.png\")\n",
    "ggplot(data=subset(who.polio,WHO.region %in% c(\"South-East Asia\")),aes(x=Year,y=Immunized)) + \n",
    "    geom_line(aes(colour=Country),size=.25) +\n",
    "    geom_point(aes(colour=Country),size=.4) + \n",
    "    theme(legend.key.size = unit(.6, \"cm\"),legend.position = 'bottom')\n",
    "dev.off()"
   ]
  },
  {
   "cell_type": "markdown",
   "metadata": {},
   "source": [
    "<img style=\"float: left\", src=\"fig2.png\">"
   ]
  },
  {
   "cell_type": "markdown",
   "metadata": {},
   "source": [
    "---\n",
    "####   <span style=\"color:orange\">2. boxplots</span>\n",
    "\n",
    "Boxplots are used to illustrate the distribution of numeric data, and can be plotted in R using <span style=\"color:darkgreen\">ggplot()</span> and <span style=\"color:darkgreen\">geom_boxplot()</span>. \n",
    "\n",
    "In the following example, we generate side-by-side boxplots to compare the distrubtions of the percentage of immunized children across WHO regions."
   ]
  },
  {
   "cell_type": "code",
   "execution_count": 14,
   "metadata": {
    "collapsed": false,
    "slideshow": {
     "slide_type": "slide"
    }
   },
   "outputs": [
    {
     "data": {},
     "metadata": {},
     "output_type": "display_data"
    },
    {
     "data": {
      "text/html": [
       "<strong>pdf:</strong> 2"
      ],
      "text/latex": [
       "\\textbf{pdf:} 2"
      ],
      "text/markdown": [
       "**pdf:** 2"
      ],
      "text/plain": [
       "pdf \n",
       "  2 "
      ]
     },
     "metadata": {},
     "output_type": "display_data"
    }
   ],
   "source": [
    "png(\"fig3.png\")\n",
    "ggplot(data=subset(who.polio,Year %in% c(1990)), \n",
    "    aes(x=WHO.region,y=Immunized,fill=WHO.region)) +\n",
    "    geom_boxplot(alpha=.8)+\n",
    "    scale_fill_brewer(palette=\"Accent\") +\n",
    "    theme(axis.text.x = element_blank())\n",
    "dev.off()"
   ]
  },
  {
   "cell_type": "markdown",
   "metadata": {},
   "source": [
    "<img style=\"float: left\", src=\"fig3.png\">"
   ]
  },
  {
   "cell_type": "markdown",
   "metadata": {},
   "source": [
    "We can also create side-by-side boxplots where we additionally organize the data by a second categorical variable. In the following example, we illustrate the changes in the distributions of percentage of children immunized by year and by region."
   ]
  },
  {
   "cell_type": "code",
   "execution_count": 17,
   "metadata": {
    "collapsed": false,
    "slideshow": {
     "slide_type": "slide"
    }
   },
   "outputs": [
    {
     "data": {},
     "metadata": {},
     "output_type": "display_data"
    },
    {
     "data": {
      "text/html": [
       "<strong>pdf:</strong> 2"
      ],
      "text/latex": [
       "\\textbf{pdf:} 2"
      ],
      "text/markdown": [
       "**pdf:** 2"
      ],
      "text/plain": [
       "pdf \n",
       "  2 "
      ]
     },
     "metadata": {},
     "output_type": "display_data"
    }
   ],
   "source": [
    "who.polio$year <- as.factor(who.polio$Year)\n",
    "\n",
    "png(\"fig4.png\")\n",
    "ggplot(data=subset(who.polio,Year %in% c(1990,2014)), \n",
    "            aes(x=WHO.region, y=Immunized, fill=year)) +\n",
    "    geom_boxplot() +\n",
    "    scale_fill_brewer(palette=\"Paired\") +\n",
    "    theme(axis.text.x = element_text(face=\"bold\", color=\"slategrey\", \n",
    "            size=12, angle=45))\n",
    "dev.off()"
   ]
  },
  {
   "cell_type": "markdown",
   "metadata": {},
   "source": [
    "<img style=\"float: left\", src=\"fig4.png\">"
   ]
  },
  {
   "cell_type": "markdown",
   "metadata": {},
   "source": [
    "---\n",
    "####   <span style=\"color:orange\">3. histograms</span>\n",
    "\n",
    "Histograms are an alternative way to illustrate the distribution of numeric data, and can be plotted in R using <span style=\"color:darkgreen\">ggplot()</span> and <span style=\"color:darkgreen\">geom_histogram()</span>. \n",
    "\n",
    "In the following example, we generate a histrogram of the percentage of 1 year old children immunized for Polio in 1980."
   ]
  },
  {
   "cell_type": "code",
   "execution_count": 18,
   "metadata": {
    "collapsed": false,
    "slideshow": {
     "slide_type": "slide"
    }
   },
   "outputs": [
    {
     "data": {},
     "metadata": {},
     "output_type": "display_data"
    },
    {
     "data": {
      "text/html": [
       "<strong>pdf:</strong> 2"
      ],
      "text/latex": [
       "\\textbf{pdf:} 2"
      ],
      "text/markdown": [
       "**pdf:** 2"
      ],
      "text/plain": [
       "pdf \n",
       "  2 "
      ]
     },
     "metadata": {},
     "output_type": "display_data"
    }
   ],
   "source": [
    "png(\"fig5.png\")\n",
    "ggplot(data=who.polio[who.polio$Year==1980,], aes(x=Immunized)) +\n",
    "  geom_histogram(binwidth=5,alpha = 0.4)+\n",
    "    xlab(\"Polio (Pol3) immunization coverage among 1-year-olds (%)\")\n",
    "dev.off()"
   ]
  },
  {
   "cell_type": "markdown",
   "metadata": {},
   "source": [
    "<img style=\"float: left\", src=\"fig5.png\">"
   ]
  },
  {
   "cell_type": "markdown",
   "metadata": {},
   "source": [
    "We can also overlay histograms to illustrate the relationship across levels of a categorical variable. In the example below, we illustrate the change in the distribution of percentage children immunized between 1980 and 2014. "
   ]
  },
  {
   "cell_type": "code",
   "execution_count": 19,
   "metadata": {
    "collapsed": false,
    "slideshow": {
     "slide_type": "slide"
    }
   },
   "outputs": [
    {
     "data": {},
     "metadata": {},
     "output_type": "display_data"
    },
    {
     "data": {
      "text/html": [
       "<strong>pdf:</strong> 2"
      ],
      "text/latex": [
       "\\textbf{pdf:} 2"
      ],
      "text/markdown": [
       "**pdf:** 2"
      ],
      "text/plain": [
       "pdf \n",
       "  2 "
      ]
     },
     "metadata": {},
     "output_type": "display_data"
    }
   ],
   "source": [
    "png(\"fig6.png\")\n",
    "ggplot(data=who.polio[who.polio$Year==1980,], aes(x=Immunized)) +\n",
    "    geom_histogram(data=subset(who.polio,Year==1980),binwidth=5,alpha=.4) +\n",
    "    geom_histogram(data=subset(who.polio,Year==2014),binwidth=5,\n",
    "                   colour = \"black\",fill = \"blue\", alpha = 0.4) \n",
    "dev.off()"
   ]
  },
  {
   "cell_type": "markdown",
   "metadata": {},
   "source": [
    "<img style=\"float: left\", src=\"fig6.png\">"
   ]
  },
  {
   "cell_type": "markdown",
   "metadata": {},
   "source": [
    "---\n",
    "####   <span style=\"color:orange\">4. density plots</span>\n",
    "\n",
    "Density plots are a smooth functional representation of the probability distribution of numeric data, and can be plotted in R using <span style=\"color:darkgreen\">ggplot()</span> and <span style=\"color:darkgreen\">geom_density()</span>. This generates what is called a *\"kernel density estimate\"* - we will return to this concept in the next unit!  \n",
    "\n",
    "In the following example, we generate density plots corresponding to the overlaid histograms we created in the previous example. "
   ]
  },
  {
   "cell_type": "code",
   "execution_count": 20,
   "metadata": {
    "collapsed": false,
    "slideshow": {
     "slide_type": "slide"
    }
   },
   "outputs": [
    {
     "data": {},
     "metadata": {},
     "output_type": "display_data"
    },
    {
     "data": {
      "text/html": [
       "<strong>pdf:</strong> 2"
      ],
      "text/latex": [
       "\\textbf{pdf:} 2"
      ],
      "text/markdown": [
       "**pdf:** 2"
      ],
      "text/plain": [
       "pdf \n",
       "  2 "
      ]
     },
     "metadata": {},
     "output_type": "display_data"
    }
   ],
   "source": [
    "png(\"fig7.png\")\n",
    "ggplot(data=subset(who.polio,Year==1980 | Year==2014), \n",
    "            aes(Immunized, fill = as.factor(Year), colour = as.factor(Year))) +\n",
    "            geom_density(alpha = 0.4) \n",
    "dev.off()"
   ]
  },
  {
   "cell_type": "markdown",
   "metadata": {},
   "source": [
    "<img style=\"float: left\", src=\"fig7.png\">"
   ]
  },
  {
   "cell_type": "markdown",
   "metadata": {},
   "source": [
    "Using density plots, we can explore relationships across several levels of a factor variable. For example, the following code generates a plot with densities for each year from 1980 to 2014."
   ]
  },
  {
   "cell_type": "code",
   "execution_count": 21,
   "metadata": {
    "collapsed": false,
    "slideshow": {
     "slide_type": "slide"
    }
   },
   "outputs": [
    {
     "data": {},
     "metadata": {},
     "output_type": "display_data"
    },
    {
     "data": {
      "text/html": [
       "<strong>pdf:</strong> 2"
      ],
      "text/latex": [
       "\\textbf{pdf:} 2"
      ],
      "text/markdown": [
       "**pdf:** 2"
      ],
      "text/plain": [
       "pdf \n",
       "  2 "
      ]
     },
     "metadata": {},
     "output_type": "display_data"
    }
   ],
   "source": [
    "png(\"fig8.png\")\n",
    "ggplot(data=who.polio, aes(Immunized, fill = as.factor(Year), colour = as.factor(Year))) +\n",
    "  geom_density(alpha = 0.1) \n",
    "dev.off()"
   ]
  },
  {
   "cell_type": "markdown",
   "metadata": {},
   "source": [
    "<img style=\"float: left\", src=\"fig8.png\">"
   ]
  }
 ],
 "metadata": {
  "kernelspec": {
   "display_name": "R",
   "language": "R",
   "name": "ir"
  },
  "language_info": {
   "codemirror_mode": "r",
   "file_extension": ".r",
   "mimetype": "text/x-r-source",
   "name": "R",
   "pygments_lexer": "r",
   "version": "3.3.0"
  },
  "latex_envs": {
   "bibliofile": "biblio.bib",
   "cite_by": "apalike",
   "current_citInitial": 1,
   "eqLabelWithNumbers": true,
   "eqNumInitial": 0
  }
 },
 "nbformat": 4,
 "nbformat_minor": 0
}
