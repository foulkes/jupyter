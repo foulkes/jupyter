{
 "cells": [
  {
   "cell_type": "markdown",
   "metadata": {},
   "source": [
    "#### (d) Interactive graphics: <span style=\"color:violet\"> plotly </span> package in R\n",
    "\n",
    "Requires:\n",
    "\n",
    "    install.packages(\"plotly\")\n",
    "\n",
    "Alternative standalone package: \n",
    "\n",
    "    https://plot.ly/create/\n",
    "    \n",
    "*Acknowledgements: Many of the examples below are taken directly and with minor modification from https://plot.ly/r/*"
   ]
  },
  {
   "cell_type": "code",
   "execution_count": null,
   "metadata": {
    "collapsed": false
   },
   "outputs": [],
   "source": [
    "#install.packages(\"plotly\")\n",
    "library(plotly)\n",
    "set.seed(100)\n",
    "d <- diamonds[sample(nrow(diamonds), 1000), ]\n",
    "head(d)\n",
    "p <- plot_ly(d, x = ~carat, y = ~price, color = ~carat,\n",
    "        type = \"scatter\",mode=\"markers\", size = ~carat, \n",
    "        text = ~paste(\"Clarity: \", clarity))\n",
    "embed_notebook(p)"
   ]
  },
  {
   "cell_type": "code",
   "execution_count": null,
   "metadata": {
    "collapsed": false
   },
   "outputs": [],
   "source": [
    "dta <- read.csv(\"http://apps.who.int/gho/athena/data/data-text.csv?target=GHO/WHS4_544&profile=text&filter=COUNTRY:*\")\n",
    "who.polio <- data.frame(Year = dta$Year, \n",
    "        WHO.region = dta$WHO.region, \n",
    "        WB.income = dta$World.Bank.income.group,\n",
    "        Country = dta$Country,\n",
    "        Immunized = dta$Numeric)\n",
    "p <- ggplot(data=subset(who.polio,\n",
    "        Country %in% c(\"Ethiopia\",\"Kenya\",\"Uganda\")),\n",
    "        aes(x=(Year),y=Immunized)) +\n",
    "        geom_line(aes(colour=Country),size=.25) +\n",
    "        geom_point(aes(colour=Country))\n",
    "p <- ggplotly(p)\n",
    "embed_notebook(p)"
   ]
  },
  {
   "cell_type": "code",
   "execution_count": null,
   "metadata": {
    "collapsed": false
   },
   "outputs": [],
   "source": [
    "p <- ggplot(data = d, aes(x = carat, y = price)) +\n",
    "geom_point(aes(text = paste(\"Clarity:\", clarity)), size = .5) +\n",
    "geom_smooth(aes(colour = cut, fill = cut)) + facet_wrap(~ cut)\n",
    "\n",
    "p <- ggplotly(p)\n",
    "embed_notebook(p)"
   ]
  },
  {
   "cell_type": "code",
   "execution_count": null,
   "metadata": {
    "collapsed": false
   },
   "outputs": [],
   "source": [
    "p <- ggplot(mtcars, aes(x = factor(gear), y = mpg, color = cyl)) +\n",
    "  geom_boxplot() + \n",
    "  geom_jitter(size = 2) +\n",
    "  ggtitle(\"geom_jitter: boxplot\")\n",
    "\n",
    "p <- ggplotly(p)\n",
    "embed_notebook(p)"
   ]
  },
  {
   "cell_type": "code",
   "execution_count": null,
   "metadata": {
    "collapsed": false
   },
   "outputs": [],
   "source": [
    "p <- plot_ly(mtcars, x = ~wt, y = ~hp, z = ~qsec,\n",
    "        marker = list(color = ~mpg, colorscale = c('#FFE1A1', '#683531'), showscale = TRUE)) %>%\n",
    "  add_markers() %>%\n",
    "  layout(scene = list(xaxis = list(title = 'Weight'),\n",
    "                     yaxis = list(title = 'Gross horsepower'),\n",
    "                     zaxis = list(title = '1/4 mile time')),\n",
    "         annotations = list(\n",
    "           x = 1.13,\n",
    "           y = 1.05,\n",
    "           text = 'Miles/(US) gallon',\n",
    "           xref = 'paper',\n",
    "           yref = 'paper',\n",
    "           showarrow = FALSE\n",
    "         ))\n",
    "embed_notebook(p)"
   ]
  },
  {
   "cell_type": "code",
   "execution_count": null,
   "metadata": {
    "collapsed": false
   },
   "outputs": [],
   "source": [
    "data <- read.csv(\"https://raw.githubusercontent.com/plotly/datasets/master/gapminderDataFiveYear.csv\")\n",
    "\n",
    "data_2007 <- data[which(data$year == 2007),]\n",
    "data_2007 <- data_2007[order(data_2007$continent, data_2007$country),]\n",
    "data_2007$size <- data_2007$pop\n",
    "colors <- c('#4AC6B7', '#1972A4', '#965F8A', '#FF7070', '#C61951')\n",
    "\n",
    "p <- plot_ly(data_2007, x = ~gdpPercap, y = ~lifeExp, z = ~pop, color = ~continent, size = ~size, colors = colors,\n",
    "             marker = list(symbol = 'circle', sizemode = 'diameter'), sizes = c(5, 150),\n",
    "             text = ~paste('Country:', country, '<br>Life Expectancy:', lifeExp, '<br>GDP:', gdpPercap,\n",
    "                           '<br>Pop.:', pop)) %>%\n",
    "  layout(title = 'Life Expectancy v. Per Capita GDP, 2007',\n",
    "         scene = list(xaxis = list(title = 'GDP per capita (2000 dollars)',\n",
    "                      gridcolor = 'rgb(255, 255, 255)',\n",
    "                      range = c(2.003297660701705, 5.191505530708712),\n",
    "                      type = 'log',\n",
    "                      zerolinewidth = 1,\n",
    "                      ticklen = 5,\n",
    "                      gridwidth = 2),\n",
    "               yaxis = list(title = 'Life Expectancy (years)',\n",
    "                      gridcolor = 'rgb(255, 255, 255)',\n",
    "                      range = c(36.12621671352166, 91.72921793264332),\n",
    "                      zerolinewidth = 1,\n",
    "                      ticklen = 5,\n",
    "                      gridwith = 2),\n",
    "               zaxis = list(title = 'Population',\n",
    "                            gridcolor = 'rgb(255, 255, 255)',\n",
    "                            type = 'log',\n",
    "                            zerolinewidth = 1,\n",
    "                            ticklen = 5,\n",
    "                            gridwith = 2)),\n",
    "         paper_bgcolor = 'rgb(243, 243, 243)',\n",
    "         plot_bgcolor = 'rgb(243, 243, 243)')\n",
    "embed_notebook(p)"
   ]
  },
  {
   "cell_type": "code",
   "execution_count": null,
   "metadata": {
    "collapsed": false
   },
   "outputs": [],
   "source": [
    "library(plotly)\n",
    "df <- read.csv('https://raw.githubusercontent.com/plotly/datasets/master/2014_ebola.csv')\n",
    "# restrict from June to September\n",
    "df <- subset(df, Month %in% 6:9)\n",
    "# ordered factor variable with month abbreviations\n",
    "df$abbrev <- ordered(month.abb[df$Month], levels = month.abb[6:9])\n",
    "# September totals\n",
    "df9 <- subset(df, Month == 9)\n",
    "\n",
    "# common plot options\n",
    "g <- list(\n",
    "  scope = 'africa',\n",
    "  showframe = F,\n",
    "  showland = T,\n",
    "  landcolor = toRGB(\"grey90\")\n",
    ")\n",
    "\n",
    "g1 <- c(\n",
    "  g,\n",
    "  resolution = 50,\n",
    "  showcoastlines = T,\n",
    "  countrycolor = toRGB(\"white\"),\n",
    "  coastlinecolor = toRGB(\"white\"),\n",
    "  projection = list(type = 'Mercator'),\n",
    "  list(lonaxis = list(range = c(-15, -5))),\n",
    "  list(lataxis = list(range = c(0, 12))),\n",
    "  list(domain = list(x = c(0, 1), y = c(0, 1)))\n",
    ")\n",
    "\n",
    "g2 <- c(\n",
    "  g,\n",
    "  showcountries = F,\n",
    "  bgcolor = toRGB(\"white\", alpha = 0),\n",
    "  list(domain = list(x = c(0, .6), y = c(0, .6)))\n",
    ")\n",
    "\n",
    "p <- df %>%\n",
    "  plot_geo(\n",
    "    locationmode = 'country names', sizes = c(1, 600), color = I(\"black\")\n",
    "  ) %>%\n",
    "  add_markers(\n",
    "    y = ~Lat, x = ~Lon, locations = ~Country,\n",
    "    size = ~Value, color = ~abbrev, text = ~paste(Value, \"cases\")\n",
    "  ) %>%\n",
    "  add_text(\n",
    "    x = 21.0936, y = 7.1881, text = 'Africa', showlegend = F, geo = \"geo2\"\n",
    "  ) %>%\n",
    "  add_trace(\n",
    "    data = df9, z = ~Month, locations = ~Country,\n",
    "    showscale = F, geo = \"geo2\"\n",
    "  ) %>%\n",
    "  layout(\n",
    "    title = 'Ebola cases reported by month in West Africa 2014<br> Source: <a href=\"https://data.hdx.rwlabs.org/dataset/rowca-ebola-cases\">HDX</a>',\n",
    "    geo = g1, geo2 = g2\n",
    "  )\n",
    "embed_notebook(p)"
   ]
  },
  {
   "cell_type": "markdown",
   "metadata": {},
   "source": [
    "#### Other examples:\n",
    "\n",
    "    https://plot.ly/r/scattermapbox/"
   ]
  }
 ],
 "metadata": {
  "kernelspec": {
   "display_name": "R",
   "language": "R",
   "name": "ir"
  },
  "language_info": {
   "codemirror_mode": "r",
   "file_extension": ".r",
   "mimetype": "text/x-r-source",
   "name": "R",
   "pygments_lexer": "r",
   "version": "3.3.0"
  },
  "latex_envs": {
   "bibliofile": "biblio.bib",
   "cite_by": "apalike",
   "current_citInitial": 1,
   "eqLabelWithNumbers": true,
   "eqNumInitial": 0
  }
 },
 "nbformat": 4,
 "nbformat_minor": 0
}
