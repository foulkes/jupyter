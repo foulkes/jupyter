{
 "cells": [
  {
   "cell_type": "markdown",
   "metadata": {
    "slideshow": {
     "slide_type": "slide"
    }
   },
   "source": [
    "# Tutorial: ENAR 2017\n",
    "&nbsp;\n",
    "\n",
    "### Open source and interactive scientific computing with R/Jupyter\n",
    "&nbsp;\n",
    "\n",
    "###### (A User Perspective)\n",
    "\n",
    "&nbsp;\n",
    "\n",
    "#### Instructor:  Andrea S. Foulkes \n",
    "\n",
    "Department of Mathematics and Statistics, Mount Holyoke College\n",
    "\n",
    "<img src=\"https://upload.wikimedia.org/wikipedia/en/c/c6/MountHolyokeCollege_seal.png\" width=\"150px\" align=\"left\"> "
   ]
  },
  {
   "cell_type": "markdown",
   "metadata": {
    "slideshow": {
     "slide_type": "subslide"
    }
   },
   "source": [
    "## Outline\n",
    "&nbsp;\n",
    "\n",
    "#### Part 1: Background\n",
    "&nbsp;\n",
    "#### Part 2: Jupyter functionalities\n",
    "&nbsp;\n",
    "\n",
    "#### Part 3: Integration of R and Python\n",
    "&nbsp;\n",
    "\n",
    "####  Part 4: Discussion: Jupyter in the classroom and for collaborative computing"
   ]
  },
  {
   "cell_type": "markdown",
   "metadata": {
    "slideshow": {
     "slide_type": "slide"
    }
   },
   "source": [
    "### Part 1: Background\n",
    "&nbsp;\n",
    "\n",
    "<div class=\"alert alert-warning\" role=\"alert\" style=\"margin: 10px\">\n",
    "<p>**Reproducible research**</p>\n",
    "\n",
    "<p>\"Reproducible research is the idea that data analyses, and more generally, scientific claims, are published with their data and software code so that others may verify the findings and build upon them.\" - Roger Peng, Coursera </p>\n",
    "</div>"
   ]
  },
  {
   "cell_type": "markdown",
   "metadata": {
    "slideshow": {
     "slide_type": "fragment"
    }
   },
   "source": [
    "#### Reproducible research practice includes integration of:\n",
    "- Data (as appropriate)\n",
    "- Literate programming with code embedded in documentation, i.e. the code follows the structure of the documentation\n",
    "- Effective (open source and extensible) dissemination of statistical tools used to generate research findings "
   ]
  },
  {
   "cell_type": "markdown",
   "metadata": {
    "slideshow": {
     "slide_type": "subslide"
    }
   },
   "source": [
    "#### Roots of reproducible research: \n",
    "-  <span style=\"color:orange\"> Literate programming </span>, heralded by Donald Knuth, who advocated for researchers to create clear documentation that would allow other researchers to understand how to use a particular software program (Knuth, 1992). "
   ]
  },
  {
   "cell_type": "markdown",
   "metadata": {
    "slideshow": {
     "slide_type": "fragment"
    }
   },
   "source": [
    "- This concept was <span style=\"color:orange\"> operationalized </span> by Friederic Leisch with introduction of Sweave, a program allowing users to weave together R code and natural language descriptions of the objectives of the code (Leisch, 2002a; 2002b). \n"
   ]
  },
  {
   "cell_type": "markdown",
   "metadata": {
    "slideshow": {
     "slide_type": "fragment"
    }
   },
   "source": [
    "- Researchers across fields have discussed the <span style=\"color:orange\"> importance of reproducibility </span>, e.g. econometrics (Koenker, 1996), epidemiology (Peng, 2006; 2009), bioinformatics (Gentleman, 2005), and engineering (Vandewalle, Barrenetxea, Jovanovic, Ridolfi, & Vetterli, 2007)."
   ]
  },
  {
   "cell_type": "markdown",
   "metadata": {
    "slideshow": {
     "slide_type": "fragment"
    }
   },
   "source": [
    "- Research indicates majority of scientific publications contain analyses and results that cannot be independently reproduced (Begley & Ellis, 2012; Ioannidis et al., 2009; Vandevalle, Kovacevic, & Vetterli, 2009), leading to a <span style=\"color:orange\"> credibility crisis </span> for computational scientists.\n"
   ]
  },
  {
   "cell_type": "markdown",
   "metadata": {
    "slideshow": {
     "slide_type": "fragment"
    }
   },
   "source": [
    "- Barriers to reproducibility include <span style=\"color:darkblue\"> accessible platforms </span>, <span style=\"color:darkblue\"> copyright issues </span> and <span style=\"color:darkblue\"> intellectual property rights </span> (Stodden, 2009)."
   ]
  },
  {
   "cell_type": "markdown",
   "metadata": {
    "slideshow": {
     "slide_type": "subslide"
    }
   },
   "source": [
    "<div class=\"clearfix\" style=\"padding: 10px; padding-left: 0px\">\n",
    "<img src=\"https://raw.githubusercontent.com/jupyter/nature-demo/master/images/jupyter-logo.png\" width=\"250px\" style=\"display: inline-block; margin-top: 5px;\"> =\n",
    "\n",
    "\n",
    "<img src=\"https://github.com/JuliaGraphics/julia-logo-graphics/blob/master/images/julia-logo-circular.png?raw=true\" width=\"300px\" style=\"display: inline-block; margin-top: 5px;\"> + <img src=\"https://www.python.org/static/community_logos/python-logo-master-v3-TM.png\" width=\"300px\" style=\"display: inline-block; margin-top: 5px;\"> + <img src=\"https://www.r-project.org/logo/Rlogo.png\" width=\"300px\" style=\"display: inline-block; margin-top: 5px;\"> "
   ]
  },
  {
   "cell_type": "markdown",
   "metadata": {
    "slideshow": {
     "slide_type": "subslide"
    }
   },
   "source": [
    "<div class=\"clearfix\" style=\"padding: 10px; padding-left: 0px\">\n",
    "<img src=\"https://raw.githubusercontent.com/jupyter/nature-demo/master/images/jupyter-logo.png\" width=\"300px\" align=\"right\"> \n",
    "\n",
    "### Project Jupyter \n",
    "\n",
    "- open source \n",
    "\n",
    "- born out of the IPython Project in 2014\n",
    "\n",
    "- supports interactive data science and scientific computing across multiple programming languages \n",
    "\n",
    "- serves as platform for reproducible research practice"
   ]
  },
  {
   "cell_type": "markdown",
   "metadata": {
    "slideshow": {
     "slide_type": "slide"
    }
   },
   "source": [
    "### Part 2: Jupyter (IRKernel) functionalities\n",
    "\n",
    "(a) Installation\n",
    "\n",
    "(b) Integration of code, rich text, formulas and data visualizations\n",
    "\n",
    "(c) Creating slideshows\n",
    "\n",
    "(d) Interactive graphics: <span style=\"color:violet\"> plotly </span> package in R\n",
    "&nbsp;\n"
   ]
  },
  {
   "cell_type": "markdown",
   "metadata": {
    "slideshow": {
     "slide_type": "slide"
    }
   },
   "source": [
    "#### (a) Installation of Jupyter/IRKernel \n",
    "\n",
    "&nbsp;\n",
    "\n",
    "#### Requirements: \n",
    "\n",
    "\n",
    "    Anaconda (includes Jupyter): https://www.continuum.io/downloads \n",
    "\n",
    " and\n",
    "\n",
    "    R: https://cran.r-project.org/ "
   ]
  },
  {
   "cell_type": "markdown",
   "metadata": {
    "slideshow": {
     "slide_type": "fragment"
    }
   },
   "source": [
    "#### Steps (https://irkernel.github.io/installation/):\n",
    "\n",
    "1. Install IRKernel\n",
    "\n",
    "2. Make kernel available to Jupyter"
   ]
  },
  {
   "cell_type": "markdown",
   "metadata": {
    "slideshow": {
     "slide_type": "subslide"
    }
   },
   "source": [
    "#### Launch Jupyter: \n",
    "- From the command line:\n",
    "\n",
    "      jupyter notebook\n",
    "\n",
    "- OR by clicking on the Jupyter Notebook app in Anaconda Navigator\n",
    "\n"
   ]
  },
  {
   "cell_type": "markdown",
   "metadata": {
    "slideshow": {
     "slide_type": "fragment"
    }
   },
   "source": [
    "\n",
    "&nbsp;\n",
    "\n",
    "Try Jupyter! \n",
    "\n",
    "    https://try.jupyter.org/\n"
   ]
  },
  {
   "cell_type": "markdown",
   "metadata": {
    "slideshow": {
     "slide_type": "subslide"
    }
   },
   "source": [
    "#### Notebook dashboard\n",
    "\n",
    "- Navigate and open folders/files\n",
    "- Create new notebook - select kernel\n",
    "- Manage running kernels"
   ]
  },
  {
   "cell_type": "markdown",
   "metadata": {
    "slideshow": {
     "slide_type": "slide"
    }
   },
   "source": [
    "#### (b) Integration of code, rich text, formulas and data visualizations\n",
    "\n",
    "   <span style=\"color:orange\"> Notebook Structure: Series of Markdown and Code Cells \n",
    "    1. inserting new cells\n",
    "    2. specifying cell types\n",
    "    3. removing cells\n",
    "    4. moving cells up/down\n",
    "    5. running cells"
   ]
  },
  {
   "cell_type": "markdown",
   "metadata": {
    "slideshow": {
     "slide_type": "subslide"
    }
   },
   "source": [
    "#### Markdown cells:\n",
    "\n",
    "   <span style=\"color:orange\"> Headers (depend on style file): \n",
    "\n",
    "    # Big\n",
    "# Big\n",
    "    ## Less Big\n",
    "## Less Big\n",
    "    ### Even less big   \n",
    "### Even less big\n"
   ]
  },
  {
   "cell_type": "markdown",
   "metadata": {
    "slideshow": {
     "slide_type": "subslide"
    }
   },
   "source": [
    "    #### Smaller\n",
    "#### Smaller\n",
    "    ##### Even smaller   \n",
    "##### Even smaller\n",
    "\n",
    "    ##### smallest  \n",
    "###### smallest"
   ]
  },
  {
   "cell_type": "markdown",
   "metadata": {
    "slideshow": {
     "slide_type": "subslide"
    }
   },
   "source": [
    "   <span style=\"color:orange\"> Lists: \n",
    "    - Item 1\n",
    "    - Item 2\n",
    "    - Item 3\n",
    "\n",
    "- Item 1\n",
    "- Item 2\n",
    "- Item 3\n"
   ]
  },
  {
   "cell_type": "markdown",
   "metadata": {
    "slideshow": {
     "slide_type": "fragment"
    }
   },
   "source": [
    "<span style=\"color:orange\"> Horizontal rule: \n",
    "    ***\n",
    "    \n",
    "---"
   ]
  },
  {
   "cell_type": "markdown",
   "metadata": {
    "slideshow": {
     "slide_type": "fragment"
    }
   },
   "source": [
    "<span style=\"color:orange\"> Block quote:\n",
    "    > Block quote\n",
    "    \n",
    "> Block quote"
   ]
  },
  {
   "cell_type": "markdown",
   "metadata": {
    "slideshow": {
     "slide_type": "subslide"
    }
   },
   "source": [
    "<span style=\"color:orange\">  Bold text: \n",
    "\n",
    "    **bold text**\n",
    "   \n",
    "**bold text**\n",
    "\n",
    "<span style=\"color:orange\"> Italicized text: \n",
    " \n",
    "    *italicized text*\n",
    "  \n",
    "*italicized text*\n"
   ]
  },
  {
   "cell_type": "markdown",
   "metadata": {
    "slideshow": {
     "slide_type": "subslide"
    }
   },
   "source": [
    "<span style=\"color:orange\"> Creating tables: \n",
    "\n",
    "    | Col 1 Header  | Col 2 Header |\n",
    "    | ------------- | ------------- |\n",
    "    | (1,1)  | (1,2)  |\n",
    "    | (2,1)  | (2,2)  |\n",
    "\n",
    "\n",
    "| Col 1 Header | Col 2 Header |\n",
    "| ------------- | ------------- |\n",
    "| (1,1) | (1,2)  |\n",
    "| (2,1) | (2,2)  |\n"
   ]
  },
  {
   "cell_type": "markdown",
   "metadata": {
    "slideshow": {
     "slide_type": "fragment"
    }
   },
   "source": [
    "<span style=\"color:orange\"> Changing alignments: \n",
    "\n",
    "    | Col 1 Header  | Col 2 Header |\n",
    "    |:-------------:| -------------:|\n",
    "    | (1,1)  | (1,2)  |\n",
    "    | (2,1)  | (2,2)  |\n",
    "\n",
    "    \n",
    "| Col 1 Header  | Col 2 Header |\n",
    "|:-------------:| -------------:|\n",
    "| (1,1)   | (1,2)   |\n",
    "| (2,1)   | (2,2)   |\n"
   ]
  },
  {
   "cell_type": "markdown",
   "metadata": {
    "slideshow": {
     "slide_type": "subslide"
    }
   },
   "source": [
    "<span style=\"color:orange\"> Embedding LaTex code (an example):\n",
    "\n",
    "    A general form of the conditional probability density function for $y$, given ${\\bf X}$ and ${\\bf r}$, assuming an exponential family distribution is given by:\n",
    "\n",
    "    \\begin{eqnarray}\n",
    "f_{{\\boldsymbol \\Omega}}(y | {\\bf X}, {\\bf r})  = exp \\left\\{ \\left( y\\theta-b(\\theta)\\right) / a(\\phi) + c({y},\\phi) \\right\\},\n",
    "\\end{eqnarray}\n",
    "\n",
    "    where $a(\\cdot)$, $b(\\cdot)$ and $c(\\cdot)$ are specified functions, ${\\boldsymbol \\Omega} = (\\theta,\\phi)$, $\\theta$ depends on the linear predictor and $\\phi$ is a scale parameter. \n",
    "   \n",
    "    \n",
    "A general form of the conditional probability density function for $y$, given ${\\bf X}$ and ${\\bf r}$, assuming an exponential family distribution is given by:\n",
    "\n",
    "\\begin{eqnarray}\n",
    "f_{{\\boldsymbol \\Omega}}(y | {\\bf X}, {\\bf r})  = exp \\left\\{ \\left( y\\theta-b(\\theta)\\right) / a(\\phi) + c({y},\\phi) \\right\\},\n",
    "\\end{eqnarray}\n",
    "\n",
    "where $a(\\cdot)$, $b(\\cdot)$ and $c(\\cdot)$ are specified functions, ${\\boldsymbol \\Omega} = (\\theta,\\phi)$, $\\theta$ depends on the linear predictor and $\\phi$ is a scale parameter."
   ]
  },
  {
   "cell_type": "markdown",
   "metadata": {
    "slideshow": {
     "slide_type": "subslide"
    }
   },
   "source": [
    "#### Code Cells\n",
    "- Usual R functionalities\n",
    "- Output follows directly"
   ]
  },
  {
   "cell_type": "code",
   "execution_count": 5,
   "metadata": {
    "collapsed": false,
    "scrolled": true,
    "slideshow": {
     "slide_type": "subslide"
    }
   },
   "outputs": [
    {
     "data": {
      "text/html": [
       "<table>\n",
       "<thead><tr><th scope=col>Year</th><th scope=col>WHO.region</th><th scope=col>WB.income</th><th scope=col>Country</th><th scope=col>Immunized</th></tr></thead>\n",
       "<tbody>\n",
       "\t<tr><td>1981               </td><td>South-East Asia    </td><td>Lower-middle-income</td><td>Bangladesh         </td><td>1                  </td></tr>\n",
       "\t<tr><td>1982               </td><td>South-East Asia    </td><td>Lower-middle-income</td><td>Bangladesh         </td><td>1                  </td></tr>\n",
       "\t<tr><td>1983               </td><td>South-East Asia    </td><td>Lower-middle-income</td><td>Bangladesh         </td><td>1                  </td></tr>\n",
       "\t<tr><td>1984               </td><td>South-East Asia    </td><td>Lower-middle-income</td><td>Bangladesh         </td><td>1                  </td></tr>\n",
       "\t<tr><td>1981               </td><td>South-East Asia    </td><td>Lower-middle-income</td><td>Indonesia          </td><td>1                  </td></tr>\n",
       "\t<tr><td>1982               </td><td>South-East Asia    </td><td>Lower-middle-income</td><td>Indonesia          </td><td>1                  </td></tr>\n",
       "</tbody>\n",
       "</table>\n"
      ],
      "text/latex": [
       "\\begin{tabular}{r|lllll}\n",
       " Year & WHO.region & WB.income & Country & Immunized\\\\\n",
       "\\hline\n",
       "\t 1981                & South-East Asia     & Lower-middle-income & Bangladesh          & 1                  \\\\\n",
       "\t 1982                & South-East Asia     & Lower-middle-income & Bangladesh          & 1                  \\\\\n",
       "\t 1983                & South-East Asia     & Lower-middle-income & Bangladesh          & 1                  \\\\\n",
       "\t 1984                & South-East Asia     & Lower-middle-income & Bangladesh          & 1                  \\\\\n",
       "\t 1981                & South-East Asia     & Lower-middle-income & Indonesia           & 1                  \\\\\n",
       "\t 1982                & South-East Asia     & Lower-middle-income & Indonesia           & 1                  \\\\\n",
       "\\end{tabular}\n"
      ],
      "text/markdown": [
       "\n",
       "Year | WHO.region | WB.income | Country | Immunized | \n",
       "|---|---|---|---|---|---|\n",
       "| 1981                | South-East Asia     | Lower-middle-income | Bangladesh          | 1                   | \n",
       "| 1982                | South-East Asia     | Lower-middle-income | Bangladesh          | 1                   | \n",
       "| 1983                | South-East Asia     | Lower-middle-income | Bangladesh          | 1                   | \n",
       "| 1984                | South-East Asia     | Lower-middle-income | Bangladesh          | 1                   | \n",
       "| 1981                | South-East Asia     | Lower-middle-income | Indonesia           | 1                   | \n",
       "| 1982                | South-East Asia     | Lower-middle-income | Indonesia           | 1                   | \n",
       "\n",
       "\n"
      ],
      "text/plain": [
       "  Year WHO.region      WB.income           Country    Immunized\n",
       "1 1981 South-East Asia Lower-middle-income Bangladesh 1        \n",
       "2 1982 South-East Asia Lower-middle-income Bangladesh 1        \n",
       "3 1983 South-East Asia Lower-middle-income Bangladesh 1        \n",
       "4 1984 South-East Asia Lower-middle-income Bangladesh 1        \n",
       "5 1981 South-East Asia Lower-middle-income Indonesia  1        \n",
       "6 1982 South-East Asia Lower-middle-income Indonesia  1        "
      ]
     },
     "metadata": {},
     "output_type": "display_data"
    }
   ],
   "source": [
    "dta <- read.csv(\"http://apps.who.int/gho/athena/data/data-text.csv?target=GHO/WHS4_544&profile=text&filter=COUNTRY:*\")\n",
    "who.polio <- data.frame(Year = dta$Year, \n",
    "        WHO.region = dta$WHO.region, \n",
    "        WB.income = dta$World.Bank.income.group,\n",
    "        Country = dta$Country,\n",
    "        Immunized = dta$Numeric)\n",
    "head(who.polio)"
   ]
  },
  {
   "cell_type": "code",
   "execution_count": 6,
   "metadata": {
    "collapsed": false,
    "slideshow": {
     "slide_type": "subslide"
    }
   },
   "outputs": [
    {
     "data": {},
     "metadata": {},
     "output_type": "display_data"
    },
    {
     "data": {
      "text/html": [
       "<strong>pdf:</strong> 2"
      ],
      "text/latex": [
       "\\textbf{pdf:} 2"
      ],
      "text/markdown": [
       "**pdf:** 2"
      ],
      "text/plain": [
       "pdf \n",
       "  2 "
      ]
     },
     "metadata": {},
     "output_type": "display_data"
    }
   ],
   "source": [
    "library(ggplot2)\n",
    "png(\"fig1.png\")\n",
    "ggplot(data=subset(who.polio,\n",
    "        Country %in% c(\"Ethiopia\",\"Kenya\",\"Uganda\")),\n",
    "        aes(x=(Year),y=Immunized)) +\n",
    "        geom_line(aes(colour=Country),size=.25) +\n",
    "        geom_point(aes(colour=Country))\n",
    "dev.off()"
   ]
  },
  {
   "cell_type": "markdown",
   "metadata": {
    "slideshow": {
     "slide_type": "subslide"
    }
   },
   "source": [
    "<img style=\"float: center\", src=\"fig1.png\">"
   ]
  },
  {
   "cell_type": "code",
   "execution_count": null,
   "metadata": {
    "collapsed": false,
    "slideshow": {
     "slide_type": "subslide"
    }
   },
   "outputs": [],
   "source": [
    "png(\"fig2.png\")\n",
    "ggplot(data=subset(who.polio,Year==1980 | Year==2014), \n",
    "            aes(Immunized, fill = as.factor(Year), colour = as.factor(Year))) +\n",
    "            geom_density(alpha = 0.4) \n",
    "dev.off()"
   ]
  },
  {
   "cell_type": "markdown",
   "metadata": {
    "slideshow": {
     "slide_type": "subslide"
    }
   },
   "source": [
    "<img style=\"float: right\", src=\"fig2.png\">"
   ]
  },
  {
   "cell_type": "markdown",
   "metadata": {
    "slideshow": {
     "slide_type": "subslide"
    }
   },
   "source": [
    "#### Nbextensions \n",
    "    \n",
    "Adding to Jupyter Nootebook dashboard:\n",
    "\n",
    "    pip install jupyter_nbextensions_configurator\n",
    "    jupyter nbextensions_configurator enable --user\n",
    "\n",
    "Some useful extensions:\n",
    "- livereveal\n",
    "- LaTeX environments for Jupyter\n",
    "- Nbextensions edit menu"
   ]
  },
  {
   "cell_type": "markdown",
   "metadata": {
    "slideshow": {
     "slide_type": "subslide"
    }
   },
   "source": [
    "#### Other useful tricks and shortcuts\n",
    "\n",
    "Select multiple cells to run simulataneously\n",
    "\n",
    "    esc-shift-J\n",
    "    \n",
    "Run cells\n",
    "\n",
    "    control-return\n",
    "    \n",
    "Split cells at cursor\n",
    "\n",
    "    control-shift--\n",
    "    \n",
    "Merge cells\n",
    "    \n",
    "    shift-M"
   ]
  },
  {
   "cell_type": "markdown",
   "metadata": {
    "slideshow": {
     "slide_type": "slide"
    }
   },
   "source": [
    "#### (c) Creating (live = non-static) slideshows\n",
    "\n",
    "Requires RISE live reveal:\n",
    "\n",
    "    conda install -c damianavila82 rise\n",
    "\n",
    "Steps:\n",
    "1. View > Cell Toolbar > Slideshow\n",
    "2. Select slide type:\n",
    "    - Slide\n",
    "    - Sub-slide\n",
    "    - Fragment\n",
    "    - Skip\n",
    "3. Enter Slideshow   "
   ]
  },
  {
   "cell_type": "markdown",
   "metadata": {
    "slideshow": {
     "slide_type": "slide"
    }
   },
   "source": [
    "#### (d) Interactive graphics: <span style=\"color:violet\"> plotly </span> package in R\n",
    "\n",
    "    (see ENAR-2017-InteractiveGraphics.ipynb)"
   ]
  },
  {
   "cell_type": "markdown",
   "metadata": {
    "slideshow": {
     "slide_type": "slide"
    }
   },
   "source": [
    "#### Part 3: Integration of R and Python\n",
    "\n",
    "    (see ENAR-2017-PythonNotebookExample)\n"
   ]
  },
  {
   "cell_type": "markdown",
   "metadata": {
    "slideshow": {
     "slide_type": "slide"
    }
   },
   "source": [
    "####  Part 4: Discussion: Jupyter in the classroom and for collaborative computing\n",
    "&nbsp;\n",
    "\n",
    "- Experiences With Efficient Methodologies for Teaching Computer Programming to Geoscientists (Jacobs, Gorman, Rees and Craig 2016)\n",
    "\n",
    "&nbsp;\n",
    "\n",
    "- NBviewer (https://nbviewer.jupyter.org/)\n",
    "\n",
    "&nbsp;\n",
    "\n",
    "- Github (https://github.com/foulkes/)\n",
    "\n",
    "&nbsp;\n",
    "\n",
    "- Jupyter Notebook/Hub versus RStudio/RMarkdown"
   ]
  },
  {
   "cell_type": "markdown",
   "metadata": {
    "slideshow": {
     "slide_type": "slide"
    }
   },
   "source": [
    "## Thanks!!\n",
    "\n",
    "#### Notebooks for this tutorial can be viewed at:\n",
    "\n",
    "http://nbviewer.jupyter.org/url/www.mtholyoke.edu/courses/afoulkes/2017-ENAR/ENAR-2017-Tutorial-Jupyter.ipynb\n",
    "\n",
    "http://nbviewer.jupyter.org/url/www.mtholyoke.edu/courses/afoulkes/2017-ENAR/ENAR-2017-PythonNotebookExample.ipynb\n",
    "\n",
    "http://nbviewer.jupyter.org/url/www.mtholyoke.edu/courses/afoulkes/2017-ENAR/ENAR-2017-InteractiveGraphics.ipynb\n"
   ]
  }
 ],
 "metadata": {
  "celltoolbar": "Slideshow",
  "kernelspec": {
   "display_name": "R",
   "language": "R",
   "name": "ir"
  },
  "language_info": {
   "codemirror_mode": "r",
   "file_extension": ".r",
   "mimetype": "text/x-r-source",
   "name": "R",
   "pygments_lexer": "r",
   "version": "3.3.0"
  },
  "latex_envs": {
   "bibliofile": "biblio.bib",
   "cite_by": "apalike",
   "current_citInitial": 1,
   "eqLabelWithNumbers": true,
   "eqNumInitial": 0
  }
 },
 "nbformat": 4,
 "nbformat_minor": 0
}
